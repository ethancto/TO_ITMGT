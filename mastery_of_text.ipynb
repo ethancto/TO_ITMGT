{
 "cells": [
  {
   "cell_type": "code",
   "execution_count": 1,
   "id": "7ce71b43-c97a-43eb-b4b5-2a9799cf50b8",
   "metadata": {},
   "outputs": [],
   "source": [
    "# Task 1: Find a way to save the text stored at https://www.gutenberg.org/cache/epub/10/pg10.txtLinks to an external site. into a Python variable called `pg10`.\n",
    "\n",
    "import urllib.request\n",
    "\n",
    "with urllib.request.urlopen('https://www.gutenberg.org/cache/epub/10/pg10.txt') as response:\n",
    "    pg10 = response.read().decode(\"utf-8\")\n",
    "                    "
   ]
  },
  {
   "cell_type": "code",
   "execution_count": 2,
   "id": "01155218-e729-4256-8bac-c227f0b733ad",
   "metadata": {},
   "outputs": [
    {
     "name": "stdout",
     "output_type": "stream",
     "text": [
      "number of lines:  99968\n"
     ]
    }
   ],
   "source": [
    "#Question 1: How many lines does the string have?\n",
    "\n",
    "linescounter = len(pg10.splitlines())\n",
    "print(\"number of lines: \",linescounter)"
   ]
  },
  {
   "cell_type": "code",
   "execution_count": 6,
   "id": "6023f05f-fdba-4b05-a319-aec845ffe8a3",
   "metadata": {},
   "outputs": [
    {
     "name": "stdout",
     "output_type": "stream",
     "text": [
      "number of words:  795227\n"
     ]
    }
   ],
   "source": [
    "# Question 2: How many words does the string have? (where a word is any set of directly-adjacent alphabet characters)\n",
    "\n",
    "nospecialcharacters = []\n",
    "for char in pg10:\n",
    "    if char.isalpha() or char == \" \":\n",
    "        nospecialcharacters.append(char.lower())\n",
    "    else:\n",
    "        nospecialcharacters.append(\" \")\n",
    "\n",
    "plain_words = \"\".join(nospecialcharacters)\n",
    "\n",
    "plain_words_combined = plain_words.split()\n",
    "\n",
    "wordcounter = len(plain_words_combined)\n",
    "print(\"number of words: \",wordcounter)"
   ]
  },
  {
   "cell_type": "code",
   "execution_count": 9,
   "id": "2fec340a-2819-4bd8-912a-74e413020c1a",
   "metadata": {},
   "outputs": [
    {
     "name": "stdout",
     "output_type": "stream",
     "text": [
      "frequency of \"apostle\":  47\n"
     ]
    }
   ],
   "source": [
    "# Question 3: How many times does the word \"apostle\", ignoring capitalization, appear in the string?\n",
    "\n",
    "apostlecounter = 0\n",
    "for word in plain_words_combined:\n",
    "    if word == \"apostle\":\n",
    "        apostlecounter +=1 \n",
    "\n",
    "# hello sir. this code only counts for \"apostle\", not \"apostles\", \"apostleship\", etc. since you only quoted \"apostle\". just letting you know. thank you very much.\n",
    "\n",
    "print('frequency of \"apostle\": ', apostlecounter)"
   ]
  },
  {
   "cell_type": "code",
   "execution_count": 8,
   "id": "0ae57ed8-435f-4273-8fd2-5556881ef7e3",
   "metadata": {},
   "outputs": [
    {
     "name": "stdout",
     "output_type": "stream",
     "text": [
      "most common word:  the\n"
     ]
    }
   ],
   "source": [
    "# Question 4: What is the most common word, ignoring capitalization, in the string? (where a word is any set of directly-adjacent alphabet characters)\n",
    "\n",
    "word_frequency = {}\n",
    "\n",
    "for word in plain_words_combined:\n",
    "    if word in word_frequency:\n",
    "        word_frequency[word]+=1\n",
    "    else:\n",
    "        word_frequency[word]=1\n",
    "\n",
    "most_common_word = \"\"\n",
    "highest_frequency = 0\n",
    "\n",
    "for word in word_frequency:\n",
    "    if word_frequency[word] > highest_frequency:\n",
    "        most_common_word = word\n",
    "        highest_frequency = word_frequency[word]\n",
    "        \n",
    "print( \"most common word: \", most_common_word) "
   ]
  },
  {
   "cell_type": "code",
   "execution_count": null,
   "id": "37052c9e-392f-44cb-9649-d0ac343165da",
   "metadata": {},
   "outputs": [],
   "source": []
  }
 ],
 "metadata": {
  "kernelspec": {
   "display_name": "Python [conda env:base] *",
   "language": "python",
   "name": "conda-base-py"
  },
  "language_info": {
   "codemirror_mode": {
    "name": "ipython",
    "version": 3
   },
   "file_extension": ".py",
   "mimetype": "text/x-python",
   "name": "python",
   "nbconvert_exporter": "python",
   "pygments_lexer": "ipython3",
   "version": "3.12.11"
  }
 },
 "nbformat": 4,
 "nbformat_minor": 5
}
